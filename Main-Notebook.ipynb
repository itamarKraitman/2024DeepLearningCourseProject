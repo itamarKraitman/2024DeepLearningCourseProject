{
 "cells": [
  {
   "cell_type": "code",
   "execution_count": 58,
   "metadata": {
    "collapsed": true,
    "ExecuteTime": {
     "end_time": "2024-01-23T08:59:13.606863500Z",
     "start_time": "2024-01-23T08:59:13.491203400Z"
    }
   },
   "outputs": [],
   "source": [
    "import pandas as pd\n",
    "import numpy as np\n",
    "import matplotlib_inline as plt\n",
    "import seaborn as sns\n",
    "\n",
    "from sklearn.preprocessing import LabelEncoder\n",
    "from sklearn.model_selection import train_test_split"
   ]
  },
  {
   "cell_type": "markdown",
   "source": [
    "### Prokgect Objective\n",
    "Predicting annual salary in dollars for data science positions based on various data such as role definition, location, company size, and employee location"
   ],
   "metadata": {
    "collapsed": false
   }
  },
  {
   "cell_type": "markdown",
   "source": [
    "### Reading Data From Source"
   ],
   "metadata": {
    "collapsed": false
   }
  },
  {
   "cell_type": "code",
   "execution_count": 42,
   "outputs": [
    {
     "data": {
      "text/plain": "   work_year experience_level employment_type                 job_title  \\\n0       2023               SE              FT  Principal Data Scientist   \n1       2023               MI              CT               ML Engineer   \n2       2023               MI              CT               ML Engineer   \n3       2023               SE              FT            Data Scientist   \n4       2023               SE              FT            Data Scientist   \n\n   salary salary_currency  salary_in_usd employee_residence  remote_ratio  \\\n0   80000             EUR          85847                 ES           100   \n1   30000             USD          30000                 US           100   \n2   25500             USD          25500                 US           100   \n3  175000             USD         175000                 CA           100   \n4  120000             USD         120000                 CA           100   \n\n  company_location company_size  \n0               ES            L  \n1               US            S  \n2               US            S  \n3               CA            M  \n4               CA            M  ",
      "text/html": "<div>\n<style scoped>\n    .dataframe tbody tr th:only-of-type {\n        vertical-align: middle;\n    }\n\n    .dataframe tbody tr th {\n        vertical-align: top;\n    }\n\n    .dataframe thead th {\n        text-align: right;\n    }\n</style>\n<table border=\"1\" class=\"dataframe\">\n  <thead>\n    <tr style=\"text-align: right;\">\n      <th></th>\n      <th>work_year</th>\n      <th>experience_level</th>\n      <th>employment_type</th>\n      <th>job_title</th>\n      <th>salary</th>\n      <th>salary_currency</th>\n      <th>salary_in_usd</th>\n      <th>employee_residence</th>\n      <th>remote_ratio</th>\n      <th>company_location</th>\n      <th>company_size</th>\n    </tr>\n  </thead>\n  <tbody>\n    <tr>\n      <th>0</th>\n      <td>2023</td>\n      <td>SE</td>\n      <td>FT</td>\n      <td>Principal Data Scientist</td>\n      <td>80000</td>\n      <td>EUR</td>\n      <td>85847</td>\n      <td>ES</td>\n      <td>100</td>\n      <td>ES</td>\n      <td>L</td>\n    </tr>\n    <tr>\n      <th>1</th>\n      <td>2023</td>\n      <td>MI</td>\n      <td>CT</td>\n      <td>ML Engineer</td>\n      <td>30000</td>\n      <td>USD</td>\n      <td>30000</td>\n      <td>US</td>\n      <td>100</td>\n      <td>US</td>\n      <td>S</td>\n    </tr>\n    <tr>\n      <th>2</th>\n      <td>2023</td>\n      <td>MI</td>\n      <td>CT</td>\n      <td>ML Engineer</td>\n      <td>25500</td>\n      <td>USD</td>\n      <td>25500</td>\n      <td>US</td>\n      <td>100</td>\n      <td>US</td>\n      <td>S</td>\n    </tr>\n    <tr>\n      <th>3</th>\n      <td>2023</td>\n      <td>SE</td>\n      <td>FT</td>\n      <td>Data Scientist</td>\n      <td>175000</td>\n      <td>USD</td>\n      <td>175000</td>\n      <td>CA</td>\n      <td>100</td>\n      <td>CA</td>\n      <td>M</td>\n    </tr>\n    <tr>\n      <th>4</th>\n      <td>2023</td>\n      <td>SE</td>\n      <td>FT</td>\n      <td>Data Scientist</td>\n      <td>120000</td>\n      <td>USD</td>\n      <td>120000</td>\n      <td>CA</td>\n      <td>100</td>\n      <td>CA</td>\n      <td>M</td>\n    </tr>\n  </tbody>\n</table>\n</div>"
     },
     "execution_count": 42,
     "metadata": {},
     "output_type": "execute_result"
    }
   ],
   "source": [
    "data = pd.read_csv('SalarayDataSet/ds_salaries.csv')\n",
    "data.head()"
   ],
   "metadata": {
    "collapsed": false,
    "ExecuteTime": {
     "end_time": "2024-01-23T08:16:31.637465900Z",
     "start_time": "2024-01-23T08:16:31.575458300Z"
    }
   }
  },
  {
   "cell_type": "markdown",
   "source": [
    "### Describing Features\n",
    "\n",
    "**work_year**: The year the salary was paid.\n",
    "**experience_level**: The experience level in the job during the year\n",
    "**employment_type**: The type of employment for the role\n",
    "**job_title**: The role worked in during the year.\n",
    "**salary**: The total gross salary amount paid.\n",
    "**salary_currency**: The currency of the salary paid as an ISO 4217 currency code.\n",
    "**salary_in_usd**: The salary in USD\n",
    "**employee_residence**: Employee's primary country of residence in during the work year as an ISO 3166 country code.\n",
    "**remote_ratio**: The overall amount of work done remotely\n",
    "**company_location**: The country of the employer's main office or contracting branch\n",
    "**company_size**: The median number of people that worked for the company during the year"
   ],
   "metadata": {
    "collapsed": false
   }
  },
  {
   "cell_type": "markdown",
   "source": [
    "### Data Cleaning"
   ],
   "metadata": {
    "collapsed": false
   }
  },
  {
   "cell_type": "code",
   "execution_count": 43,
   "outputs": [
    {
     "data": {
      "text/plain": "work_year             0\nexperience_level      0\nemployment_type       0\njob_title             0\nsalary                0\nsalary_currency       0\nsalary_in_usd         0\nemployee_residence    0\nremote_ratio          0\ncompany_location      0\ncompany_size          0\ndtype: int64"
     },
     "execution_count": 43,
     "metadata": {},
     "output_type": "execute_result"
    }
   ],
   "source": [
    "# No Nan values so no action should be done\n",
    "data.isnull().sum()"
   ],
   "metadata": {
    "collapsed": false,
    "ExecuteTime": {
     "end_time": "2024-01-23T08:16:31.638473800Z",
     "start_time": "2024-01-23T08:16:31.605926700Z"
    }
   }
  },
  {
   "cell_type": "markdown",
   "source": [],
   "metadata": {
    "collapsed": false
   }
  },
  {
   "cell_type": "markdown",
   "source": [
    "### Preprocessing\n",
    "Converting categorical features to numerical using encoding methods"
   ],
   "metadata": {
    "collapsed": false
   }
  },
  {
   "cell_type": "code",
   "execution_count": 44,
   "outputs": [
    {
     "name": "stdout",
     "output_type": "stream",
     "text": [
      "<class 'pandas.core.frame.DataFrame'>\n",
      "RangeIndex: 3755 entries, 0 to 3754\n",
      "Data columns (total 11 columns):\n",
      " #   Column              Non-Null Count  Dtype \n",
      "---  ------              --------------  ----- \n",
      " 0   work_year           3755 non-null   int64 \n",
      " 1   experience_level    3755 non-null   object\n",
      " 2   employment_type     3755 non-null   object\n",
      " 3   job_title           3755 non-null   object\n",
      " 4   salary              3755 non-null   int64 \n",
      " 5   salary_currency     3755 non-null   object\n",
      " 6   salary_in_usd       3755 non-null   int64 \n",
      " 7   employee_residence  3755 non-null   object\n",
      " 8   remote_ratio        3755 non-null   int64 \n",
      " 9   company_location    3755 non-null   object\n",
      " 10  company_size        3755 non-null   object\n",
      "dtypes: int64(4), object(7)\n",
      "memory usage: 322.8+ KB\n"
     ]
    }
   ],
   "source": [
    "# let's look which features are not numerical and should be converted\n",
    "data.info()"
   ],
   "metadata": {
    "collapsed": false,
    "ExecuteTime": {
     "end_time": "2024-01-23T08:16:31.638473800Z",
     "start_time": "2024-01-23T08:16:31.617488300Z"
    }
   }
  },
  {
   "cell_type": "markdown",
   "source": [
    "We can observe that the data set has 7 not numerical features which should be converted:\n",
    " experience_level, employment_type, job_title, salary_currency, employee_residence, company_location, and company_size"
   ],
   "metadata": {
    "collapsed": false
   }
  },
  {
   "cell_type": "code",
   "execution_count": 47,
   "outputs": [],
   "source": [
    "label_encoder = LabelEncoder()\n",
    "\n",
    "# Creating a list of all categorical columns\n",
    "columns_to_encode = [column for column in data.columns if data[column].dtype == 'object']\n",
    "\n",
    "for column in columns_to_encode:\n",
    "    data[column] = label_encoder.fit_transform(data[column])"
   ],
   "metadata": {
    "collapsed": false,
    "ExecuteTime": {
     "end_time": "2024-01-23T08:19:24.929005Z",
     "start_time": "2024-01-23T08:19:24.903343200Z"
    }
   }
  },
  {
   "cell_type": "code",
   "execution_count": 52,
   "outputs": [
    {
     "name": "stdout",
     "output_type": "stream",
     "text": [
      "experience_level ,  4\n",
      "employment_type ,  4\n",
      "job_title ,  93\n",
      "salary_currency ,  20\n",
      "employee_residence ,  78\n",
      "company_location ,  72\n",
      "company_size ,  3\n"
     ]
    }
   ],
   "source": [
    "for column in columns_to_encode:\n",
    "    print(column,\n",
    "          \", \",data[column].nunique())"
   ],
   "metadata": {
    "collapsed": false,
    "ExecuteTime": {
     "end_time": "2024-01-23T08:20:49.135163Z",
     "start_time": "2024-01-23T08:20:49.089597200Z"
    }
   }
  },
  {
   "cell_type": "code",
   "execution_count": 57,
   "outputs": [
    {
     "data": {
      "text/plain": "      work_year  experience_level  employment_type  job_title   salary  \\\n0          2023                 3                2         84    80000   \n1          2023                 2                0         66    30000   \n2          2023                 2                0         66    25500   \n3          2023                 3                2         47   175000   \n4          2023                 3                2         47   120000   \n...         ...               ...              ...        ...      ...   \n3750       2020                 3                2         47   412000   \n3751       2021                 2                2         84   151000   \n3752       2020                 0                2         47   105000   \n3753       2020                 0                0         17   100000   \n3754       2021                 3                2         45  7000000   \n\n      salary_currency  salary_in_usd  employee_residence  remote_ratio  \\\n0                   7          85847                  26           100   \n1                  19          30000                  75           100   \n2                  19          25500                  75           100   \n3                  19         175000                  11           100   \n4                  19         120000                  11           100   \n...               ...            ...                 ...           ...   \n3750               19         412000                  75           100   \n3751               19         151000                  75           100   \n3752               19         105000                  75           100   \n3753               19         100000                  75           100   \n3754               12          94665                  39            50   \n\n      company_location  company_size  \n0                   25             0  \n1                   70             2  \n2                   70             2  \n3                   12             1  \n4                   12             1  \n...                ...           ...  \n3750                70             0  \n3751                70             0  \n3752                70             2  \n3753                70             0  \n3754                38             0  \n\n[3755 rows x 11 columns]",
      "text/html": "<div>\n<style scoped>\n    .dataframe tbody tr th:only-of-type {\n        vertical-align: middle;\n    }\n\n    .dataframe tbody tr th {\n        vertical-align: top;\n    }\n\n    .dataframe thead th {\n        text-align: right;\n    }\n</style>\n<table border=\"1\" class=\"dataframe\">\n  <thead>\n    <tr style=\"text-align: right;\">\n      <th></th>\n      <th>work_year</th>\n      <th>experience_level</th>\n      <th>employment_type</th>\n      <th>job_title</th>\n      <th>salary</th>\n      <th>salary_currency</th>\n      <th>salary_in_usd</th>\n      <th>employee_residence</th>\n      <th>remote_ratio</th>\n      <th>company_location</th>\n      <th>company_size</th>\n    </tr>\n  </thead>\n  <tbody>\n    <tr>\n      <th>0</th>\n      <td>2023</td>\n      <td>3</td>\n      <td>2</td>\n      <td>84</td>\n      <td>80000</td>\n      <td>7</td>\n      <td>85847</td>\n      <td>26</td>\n      <td>100</td>\n      <td>25</td>\n      <td>0</td>\n    </tr>\n    <tr>\n      <th>1</th>\n      <td>2023</td>\n      <td>2</td>\n      <td>0</td>\n      <td>66</td>\n      <td>30000</td>\n      <td>19</td>\n      <td>30000</td>\n      <td>75</td>\n      <td>100</td>\n      <td>70</td>\n      <td>2</td>\n    </tr>\n    <tr>\n      <th>2</th>\n      <td>2023</td>\n      <td>2</td>\n      <td>0</td>\n      <td>66</td>\n      <td>25500</td>\n      <td>19</td>\n      <td>25500</td>\n      <td>75</td>\n      <td>100</td>\n      <td>70</td>\n      <td>2</td>\n    </tr>\n    <tr>\n      <th>3</th>\n      <td>2023</td>\n      <td>3</td>\n      <td>2</td>\n      <td>47</td>\n      <td>175000</td>\n      <td>19</td>\n      <td>175000</td>\n      <td>11</td>\n      <td>100</td>\n      <td>12</td>\n      <td>1</td>\n    </tr>\n    <tr>\n      <th>4</th>\n      <td>2023</td>\n      <td>3</td>\n      <td>2</td>\n      <td>47</td>\n      <td>120000</td>\n      <td>19</td>\n      <td>120000</td>\n      <td>11</td>\n      <td>100</td>\n      <td>12</td>\n      <td>1</td>\n    </tr>\n    <tr>\n      <th>...</th>\n      <td>...</td>\n      <td>...</td>\n      <td>...</td>\n      <td>...</td>\n      <td>...</td>\n      <td>...</td>\n      <td>...</td>\n      <td>...</td>\n      <td>...</td>\n      <td>...</td>\n      <td>...</td>\n    </tr>\n    <tr>\n      <th>3750</th>\n      <td>2020</td>\n      <td>3</td>\n      <td>2</td>\n      <td>47</td>\n      <td>412000</td>\n      <td>19</td>\n      <td>412000</td>\n      <td>75</td>\n      <td>100</td>\n      <td>70</td>\n      <td>0</td>\n    </tr>\n    <tr>\n      <th>3751</th>\n      <td>2021</td>\n      <td>2</td>\n      <td>2</td>\n      <td>84</td>\n      <td>151000</td>\n      <td>19</td>\n      <td>151000</td>\n      <td>75</td>\n      <td>100</td>\n      <td>70</td>\n      <td>0</td>\n    </tr>\n    <tr>\n      <th>3752</th>\n      <td>2020</td>\n      <td>0</td>\n      <td>2</td>\n      <td>47</td>\n      <td>105000</td>\n      <td>19</td>\n      <td>105000</td>\n      <td>75</td>\n      <td>100</td>\n      <td>70</td>\n      <td>2</td>\n    </tr>\n    <tr>\n      <th>3753</th>\n      <td>2020</td>\n      <td>0</td>\n      <td>0</td>\n      <td>17</td>\n      <td>100000</td>\n      <td>19</td>\n      <td>100000</td>\n      <td>75</td>\n      <td>100</td>\n      <td>70</td>\n      <td>0</td>\n    </tr>\n    <tr>\n      <th>3754</th>\n      <td>2021</td>\n      <td>3</td>\n      <td>2</td>\n      <td>45</td>\n      <td>7000000</td>\n      <td>12</td>\n      <td>94665</td>\n      <td>39</td>\n      <td>50</td>\n      <td>38</td>\n      <td>0</td>\n    </tr>\n  </tbody>\n</table>\n<p>3755 rows × 11 columns</p>\n</div>"
     },
     "execution_count": 57,
     "metadata": {},
     "output_type": "execute_result"
    }
   ],
   "source": [
    "data"
   ],
   "metadata": {
    "collapsed": false,
    "ExecuteTime": {
     "end_time": "2024-01-23T08:57:08.936602300Z",
     "start_time": "2024-01-23T08:57:08.884488900Z"
    }
   }
  },
  {
   "cell_type": "markdown",
   "source": [
    "### Train-Test Split"
   ],
   "metadata": {
    "collapsed": false
   }
  },
  {
   "cell_type": "code",
   "execution_count": 59,
   "outputs": [],
   "source": [
    "data_X, salary_in_usd = data.drop(['salary_in_usd'], axis=1), data['salary_in_usd']"
   ],
   "metadata": {
    "collapsed": false,
    "ExecuteTime": {
     "end_time": "2024-01-23T09:08:39.193435100Z",
     "start_time": "2024-01-23T09:08:39.184489Z"
    }
   }
  },
  {
   "cell_type": "code",
   "execution_count": 62,
   "outputs": [],
   "source": [
    "#Creating train,test and validation sets\n",
    "x_train, x_rest, y_train, y_rest = train_test_split(data_X, salary_in_usd, train_size=0.8)\n",
    "x_test, x_valid, y_test, y_valid = train_test_split(x_rest, y_rest, train_size=0.5)"
   ],
   "metadata": {
    "collapsed": false,
    "ExecuteTime": {
     "end_time": "2024-01-23T09:09:43.472817700Z",
     "start_time": "2024-01-23T09:09:43.459278400Z"
    }
   }
  },
  {
   "cell_type": "code",
   "execution_count": null,
   "outputs": [],
   "source": [],
   "metadata": {
    "collapsed": false
   }
  }
 ],
 "metadata": {
  "kernelspec": {
   "display_name": "Python 3",
   "language": "python",
   "name": "python3"
  },
  "language_info": {
   "codemirror_mode": {
    "name": "ipython",
    "version": 2
   },
   "file_extension": ".py",
   "mimetype": "text/x-python",
   "name": "python",
   "nbconvert_exporter": "python",
   "pygments_lexer": "ipython2",
   "version": "2.7.6"
  }
 },
 "nbformat": 4,
 "nbformat_minor": 0
}
